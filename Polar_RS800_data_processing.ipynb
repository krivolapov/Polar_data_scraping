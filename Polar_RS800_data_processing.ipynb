{
 "cells": [
  {
   "cell_type": "code",
   "execution_count": 1,
   "metadata": {},
   "outputs": [],
   "source": [
    "import numpy as np\n",
    "import matplotlib.pyplot as plt\n",
    "import datetime"
   ]
  },
  {
   "cell_type": "code",
   "execution_count": 2,
   "metadata": {},
   "outputs": [],
   "source": [
    "from parsehrm import HRMParser"
   ]
  },
  {
   "cell_type": "code",
   "execution_count": 3,
   "metadata": {},
   "outputs": [
    {
     "data": {
      "text/plain": [
       "[<matplotlib.lines.Line2D at 0x249574502c8>]"
      ]
     },
     "execution_count": 3,
     "metadata": {},
     "output_type": "execute_result"
    },
    {
     "data": {
      "image/png": "[encoded data removed]",
      "text/plain": [
       "<Figure size 432x288 with 1 Axes>"
      ]
     },
     "metadata": {
      "needs_background": "light"
     },
     "output_type": "display_data"
    }
   ],
   "source": [
    "path = 'example_data/19100301.hrm'\n",
    "test = HRMParser(path)\n",
    "\n",
    "#print(test.heartrate)\n",
    "plt.plot(test.heartrate)"
   ]
  },
  {
   "cell_type": "code",
   "execution_count": 13,
   "metadata": {},
   "outputs": [
    {
     "name": "stdout",
     "output_type": "stream",
     "text": [
      "['0:00:00', '0:00:05', '0:00:10', '0:00:15', '0:00:20', '0:00:25', '0:00:30', '0:00:35', '0:00:40', '0:00:45', '0:00:50', '0:00:55', '0:01:00', '0:01:05', '0:01:10', '0:01:15', '0:01:20', '0:01:25', '0:01:30', '0:01:35', '0:01:40', '0:01:45', '0:01:50', '0:01:55', '0:02:00', '0:02:05', '0:02:10', '0:02:15', '0:02:20', '0:02:25', '0:02:30', '0:02:35', '0:02:40', '0:02:45', '0:02:50', '0:02:55', '0:03:00', '0:03:05', '0:03:10', '0:03:15', '0:03:20', '0:03:25', '0:03:30', '0:03:35', '0:03:40', '0:03:45', '0:03:50', '0:03:55', '0:04:00', '0:04:05', '0:04:10', '0:04:15', '0:04:20', '0:04:25', '0:04:30', '0:04:35', '0:04:40', '0:04:45', '0:04:50', '0:04:55', '0:05:00', '0:05:05', '0:05:10', '0:05:15', '0:05:20', '0:05:25', '0:05:30', '0:05:35', '0:05:40', '0:05:45', '0:05:50', '0:05:55', '0:06:00', '0:06:05', '0:06:10', '0:06:15', '0:06:20', '0:06:25', '0:06:30', '0:06:35', '0:06:40', '0:06:45', '0:06:50', '0:06:55', '0:07:00', '0:07:05', '0:07:10', '0:07:15', '0:07:20', '0:07:25', '0:07:30', '0:07:35', '0:07:40', '0:07:45', '0:07:50', '0:07:55', '0:08:00', '0:08:05', '0:08:10', '0:08:15', '0:08:20', '0:08:25', '0:08:30', '0:08:35', '0:08:40', '0:08:45', '0:08:50', '0:08:55', '0:09:00', '0:09:05', '0:09:10', '0:09:15', '0:09:20', '0:09:25', '0:09:30', '0:09:35', '0:09:40', '0:09:45', '0:09:50', '0:09:55', '0:10:00', '0:10:05', '0:10:10', '0:10:15', '0:10:20', '0:10:25', '0:10:30', '0:10:35', '0:10:40', '0:10:45', '0:10:50', '0:10:55', '0:11:00', '0:11:05', '0:11:10', '0:11:15', '0:11:20', '0:11:25', '0:11:30', '0:11:35', '0:11:40', '0:11:45', '0:11:50', '0:11:55', '0:12:00', '0:12:05', '0:12:10', '0:12:15', '0:12:20', '0:12:25', '0:12:30', '0:12:35', '0:12:40', '0:12:45', '0:12:50', '0:12:55', '0:13:00', '0:13:05', '0:13:10', '0:13:15', '0:13:20', '0:13:25', '0:13:30', '0:13:35', '0:13:40', '0:13:45', '0:13:50', '0:13:55', '0:14:00', '0:14:05', '0:14:10', '0:14:15', '0:14:20', '0:14:25', '0:14:30', '0:14:35', '0:14:40', '0:14:45', '0:14:50', '0:14:55', '0:15:00', '0:15:05', '0:15:10', '0:15:15', '0:15:20', '0:15:25', '0:15:30', '0:15:35', '0:15:40', '0:15:45', '0:15:50', '0:15:55', '0:16:00', '0:16:05', '0:16:10', '0:16:15', '0:16:20', '0:16:25', '0:16:30', '0:16:35', '0:16:40', '0:16:45', '0:16:50', '0:16:55', '0:17:00', '0:17:05', '0:17:10', '0:17:15', '0:17:20', '0:17:25', '0:17:30', '0:17:35', '0:17:40', '0:17:45', '0:17:50', '0:17:55', '0:18:00', '0:18:05', '0:18:10', '0:18:15', '0:18:20', '0:18:25', '0:18:30', '0:18:35', '0:18:40', '0:18:45', '0:18:50', '0:18:55', '0:19:00', '0:19:05', '0:19:10', '0:19:15', '0:19:20', '0:19:25', '0:19:30', '0:19:35', '0:19:40', '0:19:45', '0:19:50', '0:19:55', '0:20:00', '0:20:05', '0:20:10', '0:20:15', '0:20:20', '0:20:25', '0:20:30', '0:20:35', '0:20:40', '0:20:45', '0:20:50', '0:20:55', '0:21:00', '0:21:05', '0:21:10', '0:21:15', '0:21:20', '0:21:25', '0:21:30', '0:21:35', '0:21:40', '0:21:45', '0:21:50', '0:21:55', '0:22:00', '0:22:05', '0:22:10', '0:22:15', '0:22:20', '0:22:25', '0:22:30', '0:22:35', '0:22:40', '0:22:45', '0:22:50', '0:22:55', '0:23:00', '0:23:05', '0:23:10', '0:23:15', '0:23:20', '0:23:25', '0:23:30', '0:23:35', '0:23:40', '0:23:45', '0:23:50', '0:23:55', '0:24:00', '0:24:05', '0:24:10', '0:24:15', '0:24:20', '0:24:25', '0:24:30', '0:24:35', '0:24:40', '0:24:45', '0:24:50', '0:24:55', '0:25:00', '0:25:05', '0:25:10', '0:25:15', '0:25:20', '0:25:25', '0:25:30', '0:25:35', '0:25:40', '0:25:45', '0:25:50', '0:25:55', '0:26:00', '0:26:05', '0:26:10', '0:26:15', '0:26:20', '0:26:25', '0:26:30', '0:26:35', '0:26:40', '0:26:45', '0:26:50', '0:26:55', '0:27:00', '0:27:05', '0:27:10', '0:27:15', '0:27:20', '0:27:25', '0:27:30', '0:27:35', '0:27:40', '0:27:45', '0:27:50', '0:27:55', '0:28:00', '0:28:05', '0:28:10', '0:28:15', '0:28:20', '0:28:25', '0:28:30', '0:28:35', '0:28:40', '0:28:45', '0:28:50', '0:28:55', '0:29:00', '0:29:05', '0:29:10', '0:29:15', '0:29:20', '0:29:25', '0:29:30', '0:29:35', '0:29:40', '0:29:45', '0:29:50', '0:29:55', '0:30:00', '0:30:05', '0:30:10', '0:30:15', '0:30:20', '0:30:25', '0:30:30', '0:30:35', '0:30:40', '0:30:45', '0:30:50', '0:30:55', '0:31:00', '0:31:05', '0:31:10', '0:31:15', '0:31:20', '0:31:25', '0:31:30', '0:31:35', '0:31:40', '0:31:45', '0:31:50', '0:31:55', '0:32:00', '0:32:05', '0:32:10', '0:32:15', '0:32:20', '0:32:25', '0:32:30', '0:32:35', '0:32:40', '0:32:45', '0:32:50', '0:32:55', '0:33:00', '0:33:05', '0:33:10', '0:33:15', '0:33:20', '0:33:25', '0:33:30', '0:33:35', '0:33:40', '0:33:45', '0:33:50', '0:33:55', '0:34:00', '0:34:05', '0:34:10', '0:34:15', '0:34:20', '0:34:25', '0:34:30', '0:34:35', '0:34:40', '0:34:45', '0:34:50', '0:34:55', '0:35:00', '0:35:05', '0:35:10', '0:35:15', '0:35:20', '0:35:25', '0:35:30', '0:35:35', '0:35:40', '0:35:45', '0:35:50', '0:35:55', '0:36:00', '0:36:05', '0:36:10', '0:36:15', '0:36:20', '0:36:25', '0:36:30', '0:36:35', '0:36:40', '0:36:45', '0:36:50', '0:36:55', '0:37:00', '0:37:05', '0:37:10', '0:37:15', '0:37:20', '0:37:25', '0:37:30', '0:37:35', '0:37:40', '0:37:45', '0:37:50', '0:37:55', '0:38:00', '0:38:05', '0:38:10', '0:38:15', '0:38:20', '0:38:25', '0:38:30', '0:38:35', '0:38:40', '0:38:45', '0:38:50', '0:38:55', '0:39:00', '0:39:05', '0:39:10', '0:39:15', '0:39:20', '0:39:25', '0:39:30', '0:39:35', '0:39:40', '0:39:45', '0:39:50', '0:39:55', '0:40:00', '0:40:05', '0:40:10', '0:40:15', '0:40:20', '0:40:25', '0:40:30', '0:40:35', '0:40:40', '0:40:45', '0:40:50', '0:40:55', '0:41:00', '0:41:05', '0:41:10', '0:41:15', '0:41:20', '0:41:25', '0:41:30', '0:41:35', '0:41:40', '0:41:45', '0:41:50', '0:41:55', '0:42:00', '0:42:05', '0:42:10', '0:42:15', '0:42:20', '0:42:25', '0:42:30', '0:42:35', '0:42:40', '0:42:45', '0:42:50', '0:42:55', '0:43:00', '0:43:05', '0:43:10', '0:43:15', '0:43:20', '0:43:25', '0:43:30', '0:43:35', '0:43:40', '0:43:45', '0:43:50', '0:43:55', '0:44:00', '0:44:05', '0:44:10', '0:44:15', '0:44:20', '0:44:25', '0:44:30', '0:44:35', '0:44:40', '0:44:45', '0:44:50', '0:44:55', '0:45:00', '0:45:05', '0:45:10', '0:45:15', '0:45:20', '0:45:25', '0:45:30', '0:45:35', '0:45:40', '0:45:45', '0:45:50', '0:45:55', '0:46:00', '0:46:05', '0:46:10', '0:46:15', '0:46:20', '0:46:25', '0:46:30', '0:46:35', '0:46:40', '0:46:45', '0:46:50', '0:46:55', '0:47:00', '0:47:05', '0:47:10', '0:47:15', '0:47:20', '0:47:25', '0:47:30', '0:47:35', '0:47:40', '0:47:45', '0:47:50', '0:47:55', '0:48:00', '0:48:05', '0:48:10', '0:48:15', '0:48:20', '0:48:25', '0:48:30', '0:48:35', '0:48:40', '0:48:45', '0:48:50', '0:48:55', '0:49:00', '0:49:05', '0:49:10', '0:49:15', '0:49:20', '0:49:25', '0:49:30', '0:49:35', '0:49:40', '0:49:45', '0:49:50', '0:49:55', '0:50:00', '0:50:05', '0:50:10', '0:50:15', '0:50:20', '0:50:25', '0:50:30', '0:50:35', '0:50:40', '0:50:45', '0:50:50', '0:50:55', '0:51:00', '0:51:05', '0:51:10', '0:51:15', '0:51:20', '0:51:25', '0:51:30', '0:51:35', '0:51:40', '0:51:45', '0:51:50', '0:51:55', '0:52:00', '0:52:05', '0:52:10', '0:52:15', '0:52:20', '0:52:25', '0:52:30', '0:52:35', '0:52:40', '0:52:45', '0:52:50', '0:52:55', '0:53:00', '0:53:05', '0:53:10', '0:53:15', '0:53:20', '0:53:25', '0:53:30', '0:53:35', '0:53:40', '0:53:45', '0:53:50', '0:53:55', '0:54:00', '0:54:05', '0:54:10', '0:54:15', '0:54:20', '0:54:25', '0:54:30', '0:54:35', '0:54:40', '0:54:45', '0:54:50', '0:54:55', '0:55:00', '0:55:05', '0:55:10', '0:55:15', '0:55:20', '0:55:25', '0:55:30', '0:55:35', '0:55:40', '0:55:45', '0:55:50', '0:55:55', '0:56:00', '0:56:05', '0:56:10', '0:56:15', '0:56:20', '0:56:25', '0:56:30', '0:56:35', '0:56:40', '0:56:45', '0:56:50', '0:56:55', '0:57:00', '0:57:05', '0:57:10', '0:57:15', '0:57:20', '0:57:25', '0:57:30', '0:57:35', '0:57:40', '0:57:45', '0:57:50', '0:57:55', '0:58:00', '0:58:05', '0:58:10', '0:58:15', '0:58:20', '0:58:25', '0:58:30', '0:58:35', '0:58:40', '0:58:45', '0:58:50', '0:58:55', '0:59:00', '0:59:05', '0:59:10', '0:59:15', '0:59:20', '0:59:25', '0:59:30', '0:59:35', '0:59:40', '0:59:45', '0:59:50', '0:59:55', '1:00:00', '1:00:05', '1:00:10', '1:00:15', '1:00:20', '1:00:25', '1:00:30', '1:00:35', '1:00:40', '1:00:45', '1:00:50', '1:00:55', '1:01:00', '1:01:05', '1:01:10', '1:01:15', '1:01:20', '1:01:25', '1:01:30', '1:01:35', '1:01:40', '1:01:45', '1:01:50', '1:01:55', '1:02:00', '1:02:05', '1:02:10', '1:02:15', '1:02:20', '1:02:25', '1:02:30', '1:02:35', '1:02:40', '1:02:45', '1:02:50', '1:02:55', '1:03:00', '1:03:05', '1:03:10', '1:03:15', '1:03:20', '1:03:25', '1:03:30', '1:03:35', '1:03:40', '1:03:45', '1:03:50', '1:03:55', '1:04:00', '1:04:05', '1:04:10', '1:04:15', '1:04:20', '1:04:25', '1:04:30', '1:04:35', '1:04:40', '1:04:45', '1:04:50', '1:04:55', '1:05:00', '1:05:05', '1:05:10', '1:05:15', '1:05:20', '1:05:25', '1:05:30', '1:05:35', '1:05:40', '1:05:45', '1:05:50', '1:05:55', '1:06:00', '1:06:05', '1:06:10', '1:06:15', '1:06:20', '1:06:25', '1:06:30', '1:06:35', '1:06:40', '1:06:45', '1:06:50', '1:06:55', '1:07:00', '1:07:05', '1:07:10', '1:07:15', '1:07:20', '1:07:25', '1:07:30', '1:07:35', '1:07:40', '1:07:45', '1:07:50', '1:07:55', '1:08:00', '1:08:05', '1:08:10', '1:08:15', '1:08:20', '1:08:25', '1:08:30', '1:08:35', '1:08:40', '1:08:45', '1:08:50', '1:08:55', '1:09:00', '1:09:05', '1:09:10', '1:09:15', '1:09:20', '1:09:25', '1:09:30', '1:09:35', '1:09:40', '1:09:45', '1:09:50', '1:09:55', '1:10:00', '1:10:05', '1:10:10', '1:10:15', '1:10:20', '1:10:25', '1:10:30', '1:10:35', '1:10:40', '1:10:45', '1:10:50', '1:10:55', '1:11:00', '1:11:05', '1:11:10', '1:11:15', '1:11:20', '1:11:25', '1:11:30', '1:11:35', '1:11:40', '1:11:45', '1:11:50', '1:11:55', '1:12:00', '1:12:05', '1:12:10', '1:12:15', '1:12:20', '1:12:25', '1:12:30', '1:12:35', '1:12:40', '1:12:45', '1:12:50', '1:12:55', '1:13:00', '1:13:05', '1:13:10', '1:13:15', '1:13:20', '1:13:25', '1:13:30', '1:13:35', '1:13:40', '1:13:45', '1:13:50', '1:13:55', '1:14:00', '1:14:05', '1:14:10', '1:14:15', '1:14:20', '1:14:25', '1:14:30', '1:14:35', '1:14:40', '1:14:45', '1:14:50', '1:14:55', '1:15:00', '1:15:05', '1:15:10', '1:15:15', '1:15:20', '1:15:25', '1:15:30', '1:15:35', '1:15:40', '1:15:45', '1:15:50', '1:15:55', '1:16:00', '1:16:05', '1:16:10', '1:16:15', '1:16:20', '1:16:25', '1:16:30', '1:16:35', '1:16:40', '1:16:45', '1:16:50', '1:16:55', '1:17:00', '1:17:05', '1:17:10', '1:17:15', '1:17:20', '1:17:25', '1:17:30', '1:17:35', '1:17:40', '1:17:45', '1:17:50', '1:17:55', '1:18:00', '1:18:05', '1:18:10', '1:18:15', '1:18:20', '1:18:25', '1:18:30', '1:18:35', '1:18:40', '1:18:45', '1:18:50', '1:18:55', '1:19:00', '1:19:05', '1:19:10', '1:19:15', '1:19:20', '1:19:25', '1:19:30', '1:19:35', '1:19:40', '1:19:45', '1:19:50', '1:19:55', '1:20:00', '1:20:05', '1:20:10', '1:20:15', '1:20:20', '1:20:25', '1:20:30', '1:20:35', '1:20:40', '1:20:45', '1:20:50', '1:20:55', '1:21:00', '1:21:05', '1:21:10', '1:21:15', '1:21:20', '1:21:25', '1:21:30', '1:21:35', '1:21:40', '1:21:45', '1:21:50', '1:21:55', '1:22:00', '1:22:05', '1:22:10', '1:22:15', '1:22:20', '1:22:25', '1:22:30', '1:22:35', '1:22:40', '1:22:45', '1:22:50', '1:22:55', '1:23:00', '1:23:05', '1:23:10', '1:23:15', '1:23:20', '1:23:25', '1:23:30', '1:23:35', '1:23:40', '1:23:45', '1:23:50', '1:23:55', '1:24:00', '1:24:05', '1:24:10', '1:24:15', '1:24:20', '1:24:25', '1:24:30', '1:24:35', '1:24:40', '1:24:45', '1:24:50', '1:24:55', '1:25:00', '1:25:05', '1:25:10', '1:25:15', '1:25:20', '1:25:25', '1:25:30', '1:25:35', '1:25:40', '1:25:45', '1:25:50', '1:25:55', '1:26:00', '1:26:05', '1:26:10', '1:26:15', '1:26:20', '1:26:25', '1:26:30', '1:26:35', '1:26:40', '1:26:45', '1:26:50', '1:26:55', '1:27:00', '1:27:05', '1:27:10', '1:27:15', '1:27:20', '1:27:25', '1:27:30', '1:27:35', '1:27:40', '1:27:45', '1:27:50', '1:27:55', '1:28:00', '1:28:05', '1:28:10', '1:28:15', '1:28:20', '1:28:25', '1:28:30', '1:28:35', '1:28:40', '1:28:45', '1:28:50', '1:28:55', '1:29:00', '1:29:05', '1:29:10', '1:29:15', '1:29:20', '1:29:25', '1:29:30', '1:29:35', '1:29:40', '1:29:45', '1:29:50', '1:29:55', '1:30:00', '1:30:05', '1:30:10', '1:30:15', '1:30:20', '1:30:25', '1:30:30', '1:30:35', '1:30:40', '1:30:45', '1:30:50', '1:30:55', '1:31:00', '1:31:05', '1:31:10', '1:31:15', '1:31:20', '1:31:25', '1:31:30', '1:31:35', '1:31:40', '1:31:45', '1:31:50', '1:31:55', '1:32:00', '1:32:05', '1:32:10', '1:32:15', '1:32:20', '1:32:25', '1:32:30', '1:32:35', '1:32:40', '1:32:45', '1:32:50', '1:32:55', '1:33:00']\n"
     ]
    }
   ],
   "source": [
    "print(test.time) # timedelta format?\n"
   ]
  },
  {
   "cell_type": "code",
   "execution_count": 5,
   "metadata": {},
   "outputs": [
    {
     "name": "stdout",
     "output_type": "stream",
     "text": [
      "Help on HRMParser in module parsehrm object:\n",
      "\n",
      "class HRMParser(builtins.object)\n",
      " |  HRMParser(hrm_file)\n",
      " |  \n",
      " |  Methods defined here:\n",
      " |  \n",
      " |  __init__(self, hrm_file)\n",
      " |      Initialize self.  See help(type(self)) for accurate signature.\n",
      " |  \n",
      " |  get_data(self, content)\n",
      " |  \n",
      " |  get_file_content(self, hrm_file)\n",
      " |  \n",
      " |  get_header(self, content)\n",
      " |  \n",
      " |  ----------------------------------------------------------------------\n",
      " |  Data descriptors defined here:\n",
      " |  \n",
      " |  __dict__\n",
      " |      dictionary for instance variables (if defined)\n",
      " |  \n",
      " |  __weakref__\n",
      " |      list of weak references to the object (if defined)\n",
      "\n"
     ]
    }
   ],
   "source": [
    "help(test)"
   ]
  },
  {
   "cell_type": "code",
   "execution_count": 6,
   "metadata": {},
   "outputs": [
    {
     "name": "stdout",
     "output_type": "stream",
     "text": [
      "Polar RS800cx\n"
     ]
    }
   ],
   "source": [
    "print(test.device)"
   ]
  },
  {
   "cell_type": "code",
   "execution_count": 7,
   "metadata": {},
   "outputs": [
    {
     "name": "stdout",
     "output_type": "stream",
     "text": [
      "111000100\n"
     ]
    }
   ],
   "source": [
    "print(test.mode)"
   ]
  },
  {
   "cell_type": "code",
   "execution_count": 8,
   "metadata": {},
   "outputs": [
    {
     "name": "stdout",
     "output_type": "stream",
     "text": [
      "20191003\n"
     ]
    }
   ],
   "source": [
    "print(test.date)"
   ]
  },
  {
   "cell_type": "code",
   "execution_count": 9,
   "metadata": {},
   "outputs": [],
   "source": [
    "date_time = datetime.datetime.strptime(test.date, '%Y%m%d')"
   ]
  },
  {
   "cell_type": "code",
   "execution_count": 10,
   "metadata": {},
   "outputs": [
    {
     "name": "stdout",
     "output_type": "stream",
     "text": [
      "2019-10-03 00:00:00\n"
     ]
    }
   ],
   "source": [
    "print(date_time)"
   ]
  },
  {
   "cell_type": "code",
   "execution_count": 11,
   "metadata": {},
   "outputs": [
    {
     "name": "stdout",
     "output_type": "stream",
     "text": [
      "18:30:14.0\n"
     ]
    }
   ],
   "source": [
    "print(test.start_time)"
   ]
  },
  {
   "cell_type": "code",
   "execution_count": 12,
   "metadata": {},
   "outputs": [
    {
     "name": "stdout",
     "output_type": "stream",
     "text": [
      "2\n"
     ]
    }
   ],
   "source": [
    "print(test.interval)"
   ]
  },
  {
   "cell_type": "code",
   "execution_count": null,
   "metadata": {},
   "outputs": [],
   "source": []
  }
 ],
 "metadata": {
  "kernelspec": {
   "display_name": "Python 3",
   "language": "python",
   "name": "python3"
  },
  "language_info": {
   "codemirror_mode": {
    "name": "ipython",
    "version": 3
   },
   "file_extension": ".py",
   "mimetype": "text/x-python",
   "name": "python",
   "nbconvert_exporter": "python",
   "pygments_lexer": "ipython3",
   "version": "3.7.4"
  }
 },
 "nbformat": 4,
 "nbformat_minor": 2
}
